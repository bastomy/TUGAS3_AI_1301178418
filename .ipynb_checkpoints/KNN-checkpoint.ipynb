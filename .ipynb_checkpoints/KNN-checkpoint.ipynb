{
 "cells": [
  {
   "cell_type": "markdown",
   "metadata": {},
   "source": [
    "# TUGAS 3"
   ]
  },
  {
   "cell_type": "markdown",
   "metadata": {},
   "source": [
    "# Bastomy - 1301178418"
   ]
  },
  {
   "cell_type": "markdown",
   "metadata": {},
   "source": [
    "### k-Nearest Neighbors "
   ]
  },
  {
   "cell_type": "markdown",
   "metadata": {},
   "source": [
    "### Import Library"
   ]
  },
  {
   "cell_type": "code",
   "execution_count": 1,
   "metadata": {},
   "outputs": [],
   "source": [
    "import pandas as pd\n",
    "import math\n",
    "import matplotlib.pyplot as plt\n",
    "from mpl_toolkits.mplot3d import Axes3D"
   ]
  },
  {
   "cell_type": "markdown",
   "metadata": {},
   "source": [
    "### Import Data Train dan Data Test</strong>"
   ]
  },
  {
   "cell_type": "code",
   "execution_count": 2,
   "metadata": {},
   "outputs": [],
   "source": [
    "d_train = pd.read_csv(\"DataTrain_Tugas3_AI.csv\")\n",
    "d_test = pd.read_csv(\"DataTest_Tugas3_AI.csv\")"
   ]
  },
  {
   "cell_type": "markdown",
   "metadata": {},
   "source": [
    "### Visualisasi Data Train"
   ]
  },
  {
   "cell_type": "code",
   "execution_count": null,
   "metadata": {},
   "outputs": [],
   "source": []
  },
  {
   "cell_type": "markdown",
   "metadata": {},
   "source": [
    "### Variabel"
   ]
  },
  {
   "cell_type": "code",
   "execution_count": 3,
   "metadata": {},
   "outputs": [],
   "source": [
    "result =[]\n",
    "K = 5"
   ]
  },
  {
   "cell_type": "markdown",
   "metadata": {},
   "source": [
    "### Perulangan "
   ]
  },
  {
   "cell_type": "code",
   "execution_count": null,
   "metadata": {},
   "outputs": [],
   "source": [
    "def calculating():\n",
    "    for i in range(len(d_test)):\n",
    "        prediction=[]\n",
    "        for j in range(len(d_train)):\n",
    "            result.append([math.sqrt((d_test[\"X1\"][i]- d_train[\"X1\"][j])**2)+((d_test[\"X2\"][i]- d_train[\"X2\"][j])**2)+((d_test[\"X3\"][i]- d_train[\"X3\"][j])**2)+((d_test[\"X4\"][i]- d_train[\"X4\"][j])**2)+((d_test[\"X5\"][i]- d_train[\"X5\"][j])**2),d_train[\"Y\"][j]])\n",
    "        result.sort()\n",
    "        for k in range(K):\n",
    "            if(result[1][k]==0):\n",
    "                cls0=cls0+1\n",
    "            elif(result[1][k]==1):\n",
    "                cls1=cls1+1\n",
    "            elif(result[1][k]==2):\n",
    "                cls2=cls2+1\n",
    "            elif(result[1][k]==3):\n",
    "                cls3=cls3+1\n",
    "        if (cls0>cls1)\n",
    "        result.clear()\n",
    "    return "
   ]
  },
  {
   "cell_type": "code",
   "execution_count": null,
   "metadata": {},
   "outputs": [],
   "source": []
  },
  {
   "cell_type": "code",
   "execution_count": null,
   "metadata": {},
   "outputs": [],
   "source": []
  },
  {
   "cell_type": "code",
   "execution_count": null,
   "metadata": {},
   "outputs": [],
   "source": []
  }
 ],
 "metadata": {
  "kernelspec": {
   "display_name": "Python 3",
   "language": "python",
   "name": "python3"
  },
  "language_info": {
   "codemirror_mode": {
    "name": "ipython",
    "version": 3
   },
   "file_extension": ".py",
   "mimetype": "text/x-python",
   "name": "python",
   "nbconvert_exporter": "python",
   "pygments_lexer": "ipython3",
   "version": "3.7.0"
  }
 },
 "nbformat": 4,
 "nbformat_minor": 2
}
